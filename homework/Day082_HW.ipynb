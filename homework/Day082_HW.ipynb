{
 "cells": [
  {
   "cell_type": "markdown",
   "metadata": {},
   "source": [
    "## Work\n",
    "1. 請比較使用不同層數以及不同 Dropout rate 對訓練的效果\n",
    "2. 將 optimizer 改成使用 Adam 並加上適當的 dropout rate 檢視結果"
   ]
  },
  {
   "cell_type": "code",
   "execution_count": 1,
   "metadata": {},
   "outputs": [
    {
     "name": "stderr",
     "output_type": "stream",
     "text": [
      "Using TensorFlow backend.\n"
     ]
    }
   ],
   "source": [
    "import os\n",
    "import keras\n",
    "import itertools\n",
    "# Disable GPU\n",
    "os.environ[\"CUDA_VISIBLE_DEVICES\"] = \"0\""
   ]
  },
  {
   "cell_type": "code",
   "execution_count": 2,
   "metadata": {},
   "outputs": [],
   "source": [
    "train, test = keras.datasets.cifar10.load_data()"
   ]
  },
  {
   "cell_type": "code",
   "execution_count": 3,
   "metadata": {},
   "outputs": [],
   "source": [
    "## 資料前處理\n",
    "def preproc_x(x, flatten=True):\n",
    "    x = x / 255.\n",
    "    if flatten:\n",
    "        x = x.reshape((len(x), -1))\n",
    "    return x\n",
    "\n",
    "def preproc_y(y, num_classes=10):\n",
    "    if y.shape[-1] == 1:\n",
    "        y = keras.utils.to_categorical(y, num_classes)\n",
    "    return y    "
   ]
  },
  {
   "cell_type": "code",
   "execution_count": 4,
   "metadata": {},
   "outputs": [],
   "source": [
    "x_train, y_train = train\n",
    "x_test, y_test = test\n",
    "\n",
    "# Preproc the inputs\n",
    "x_train = preproc_x(x_train)\n",
    "x_test = preproc_x(x_test)\n",
    "\n",
    "# Preprc the outputs\n",
    "y_train = preproc_y(y_train)\n",
    "y_test = preproc_y(y_test)"
   ]
  },
  {
   "cell_type": "code",
   "execution_count": 9,
   "metadata": {},
   "outputs": [],
   "source": [
    "from keras.layers import Dropout \n",
    "def build_mlp(Input_shape,Output_units=10,num_neurons=[512,256,128],drt_ratio=0.2):\n",
    "    \"\"\"Code Here\n",
    "    建立你的神經網路\n",
    "    \"\"\"\n",
    "    input_layer = keras.layers.Input(Input_shape)\n",
    "    \n",
    "    for i ,n_units in enumerate(num_neurons):\n",
    "        if i ==0 :\n",
    "            x = keras.layers.Dense(units=n_units, \n",
    "                               activation='relu' , \n",
    "                               name = \"hidden_layer\"+str(i+1))(input_layer)\n",
    "            x = Dropout(drt_ratio)(x)\n",
    "        else :\n",
    "            x = keras.layers.Dense(units=n_units,\n",
    "                                  activation=\"relu\",\n",
    "                                  name = \"hidden_layer\"+str(i+1))(x)\n",
    "            x = Dropout(drt_ratio)(x)\n",
    "    \n",
    "    out =keras.layers.Dense(units=Output_units, activation=\"softmax\",name = \"Output\")(x)\n",
    "    \n",
    "    model = keras.models.Model(inputs=[input_layer],outputs=[out])\n",
    "    \n",
    "    \n",
    "    return model"
   ]
  },
  {
   "cell_type": "code",
   "execution_count": 18,
   "metadata": {},
   "outputs": [],
   "source": [
    "\"\"\"Code Here\n",
    "設定超參數\n",
    "\"\"\"\n",
    "LEARNING_RATE = 1e-3\n",
    "EPOCHS = 50\n",
    "BATCH_SIZE = 250\n",
    "MOMENTUM = 0.95\n",
    "Dropout_EXP = 0.25\n",
    "from keras.optimizers import SGD ,Adam"
   ]
  },
  {
   "cell_type": "code",
   "execution_count": 19,
   "metadata": {
    "scrolled": true
   },
   "outputs": [
    {
     "name": "stdout",
     "output_type": "stream",
     "text": [
      "_________________________________________________________________\n",
      "Layer (type)                 Output Shape              Param #   \n",
      "=================================================================\n",
      "input_3 (InputLayer)         (None, 3072)              0         \n",
      "_________________________________________________________________\n",
      "hidden_layer1 (Dense)        (None, 512)               1573376   \n",
      "_________________________________________________________________\n",
      "dropout_7 (Dropout)          (None, 512)               0         \n",
      "_________________________________________________________________\n",
      "hidden_layer2 (Dense)        (None, 256)               131328    \n",
      "_________________________________________________________________\n",
      "dropout_8 (Dropout)          (None, 256)               0         \n",
      "_________________________________________________________________\n",
      "hidden_layer3 (Dense)        (None, 128)               32896     \n",
      "_________________________________________________________________\n",
      "dropout_9 (Dropout)          (None, 128)               0         \n",
      "_________________________________________________________________\n",
      "Output (Dense)               (None, 10)                1290      \n",
      "=================================================================\n",
      "Total params: 1,738,890\n",
      "Trainable params: 1,738,890\n",
      "Non-trainable params: 0\n",
      "_________________________________________________________________\n",
      "Train on 50000 samples, validate on 10000 samples\n",
      "Epoch 1/50\n",
      "50000/50000 [==============================] - 4s 80us/step - loss: 2.1003 - acc: 0.2189 - val_loss: 1.8303 - val_acc: 0.3449\n",
      "Epoch 2/50\n",
      "50000/50000 [==============================] - 3s 64us/step - loss: 1.8882 - acc: 0.3146 - val_loss: 1.7747 - val_acc: 0.3714\n",
      "Epoch 3/50\n",
      "50000/50000 [==============================] - 3s 64us/step - loss: 1.8310 - acc: 0.3343 - val_loss: 1.7221 - val_acc: 0.3858\n",
      "Epoch 4/50\n",
      "50000/50000 [==============================] - 3s 63us/step - loss: 1.7950 - acc: 0.3515 - val_loss: 1.6787 - val_acc: 0.4144\n",
      "Epoch 5/50\n",
      "50000/50000 [==============================] - 3s 63us/step - loss: 1.7579 - acc: 0.3649 - val_loss: 1.6734 - val_acc: 0.4092\n",
      "Epoch 6/50\n",
      "50000/50000 [==============================] - 3s 63us/step - loss: 1.7352 - acc: 0.3739 - val_loss: 1.6587 - val_acc: 0.4214\n",
      "Epoch 7/50\n",
      "50000/50000 [==============================] - 3s 63us/step - loss: 1.7247 - acc: 0.3785 - val_loss: 1.6222 - val_acc: 0.4280\n",
      "Epoch 8/50\n",
      "50000/50000 [==============================] - 3s 63us/step - loss: 1.7020 - acc: 0.3847 - val_loss: 1.6363 - val_acc: 0.4305\n",
      "Epoch 9/50\n",
      "50000/50000 [==============================] - 3s 63us/step - loss: 1.6820 - acc: 0.3964 - val_loss: 1.5968 - val_acc: 0.4373\n",
      "Epoch 10/50\n",
      "50000/50000 [==============================] - 3s 63us/step - loss: 1.6760 - acc: 0.3946 - val_loss: 1.5710 - val_acc: 0.4485\n",
      "Epoch 11/50\n",
      "50000/50000 [==============================] - 3s 63us/step - loss: 1.6549 - acc: 0.4050 - val_loss: 1.5742 - val_acc: 0.4437\n",
      "Epoch 12/50\n",
      "50000/50000 [==============================] - 3s 63us/step - loss: 1.6621 - acc: 0.4008 - val_loss: 1.6034 - val_acc: 0.4322\n",
      "Epoch 13/50\n",
      "50000/50000 [==============================] - 3s 63us/step - loss: 1.6414 - acc: 0.4111 - val_loss: 1.5598 - val_acc: 0.4479\n",
      "Epoch 14/50\n",
      "50000/50000 [==============================] - 3s 64us/step - loss: 1.6309 - acc: 0.4141 - val_loss: 1.5605 - val_acc: 0.4518\n",
      "Epoch 15/50\n",
      "50000/50000 [==============================] - 3s 64us/step - loss: 1.6273 - acc: 0.4157 - val_loss: 1.5450 - val_acc: 0.4491\n",
      "Epoch 16/50\n",
      "50000/50000 [==============================] - 3s 64us/step - loss: 1.6215 - acc: 0.4139 - val_loss: 1.5557 - val_acc: 0.4528\n",
      "Epoch 17/50\n",
      "50000/50000 [==============================] - 3s 63us/step - loss: 1.6099 - acc: 0.4199 - val_loss: 1.5868 - val_acc: 0.4444\n",
      "Epoch 18/50\n",
      "50000/50000 [==============================] - 3s 63us/step - loss: 1.6060 - acc: 0.4229 - val_loss: 1.5181 - val_acc: 0.4650\n",
      "Epoch 19/50\n",
      "50000/50000 [==============================] - 3s 63us/step - loss: 1.5981 - acc: 0.4226 - val_loss: 1.5484 - val_acc: 0.4497\n",
      "Epoch 20/50\n",
      "50000/50000 [==============================] - 3s 63us/step - loss: 1.5968 - acc: 0.4257 - val_loss: 1.5102 - val_acc: 0.4670\n",
      "Epoch 21/50\n",
      "50000/50000 [==============================] - 3s 63us/step - loss: 1.5818 - acc: 0.4318 - val_loss: 1.5260 - val_acc: 0.4668\n",
      "Epoch 22/50\n",
      "50000/50000 [==============================] - 3s 63us/step - loss: 1.5851 - acc: 0.4316 - val_loss: 1.5009 - val_acc: 0.4655\n",
      "Epoch 23/50\n",
      "50000/50000 [==============================] - 3s 63us/step - loss: 1.5848 - acc: 0.4305 - val_loss: 1.4985 - val_acc: 0.4751\n",
      "Epoch 24/50\n",
      "50000/50000 [==============================] - 3s 63us/step - loss: 1.5710 - acc: 0.4329 - val_loss: 1.5029 - val_acc: 0.4646\n",
      "Epoch 25/50\n",
      "50000/50000 [==============================] - 3s 63us/step - loss: 1.5693 - acc: 0.4375 - val_loss: 1.5145 - val_acc: 0.4664\n",
      "Epoch 26/50\n",
      "50000/50000 [==============================] - 3s 63us/step - loss: 1.5646 - acc: 0.4381 - val_loss: 1.4775 - val_acc: 0.4772\n",
      "Epoch 27/50\n",
      "50000/50000 [==============================] - 3s 63us/step - loss: 1.5584 - acc: 0.4418 - val_loss: 1.5107 - val_acc: 0.4675\n",
      "Epoch 28/50\n",
      "50000/50000 [==============================] - 3s 63us/step - loss: 1.5501 - acc: 0.4440 - val_loss: 1.5002 - val_acc: 0.4678\n",
      "Epoch 29/50\n",
      "50000/50000 [==============================] - 3s 63us/step - loss: 1.5488 - acc: 0.4435 - val_loss: 1.4916 - val_acc: 0.4737\n",
      "Epoch 30/50\n",
      "50000/50000 [==============================] - 3s 63us/step - loss: 1.5436 - acc: 0.4470 - val_loss: 1.4769 - val_acc: 0.4777\n",
      "Epoch 31/50\n",
      "50000/50000 [==============================] - 3s 63us/step - loss: 1.5429 - acc: 0.4437 - val_loss: 1.4680 - val_acc: 0.4786\n",
      "Epoch 32/50\n",
      "50000/50000 [==============================] - 3s 64us/step - loss: 1.5459 - acc: 0.4449 - val_loss: 1.4831 - val_acc: 0.4730\n",
      "Epoch 33/50\n",
      "50000/50000 [==============================] - 3s 63us/step - loss: 1.5371 - acc: 0.4470 - val_loss: 1.4620 - val_acc: 0.4801\n",
      "Epoch 34/50\n",
      "50000/50000 [==============================] - 3s 63us/step - loss: 1.5308 - acc: 0.4497 - val_loss: 1.5295 - val_acc: 0.4525\n",
      "Epoch 35/50\n",
      "50000/50000 [==============================] - 3s 64us/step - loss: 1.5319 - acc: 0.4503 - val_loss: 1.5130 - val_acc: 0.4534\n",
      "Epoch 36/50\n",
      "50000/50000 [==============================] - 3s 63us/step - loss: 1.5306 - acc: 0.4478 - val_loss: 1.4866 - val_acc: 0.4756\n",
      "Epoch 37/50\n",
      "50000/50000 [==============================] - 3s 63us/step - loss: 1.5243 - acc: 0.4512 - val_loss: 1.4574 - val_acc: 0.4897\n",
      "Epoch 38/50\n",
      "50000/50000 [==============================] - 3s 63us/step - loss: 1.5232 - acc: 0.4536 - val_loss: 1.4776 - val_acc: 0.4832\n",
      "Epoch 39/50\n",
      "50000/50000 [==============================] - 3s 64us/step - loss: 1.5189 - acc: 0.4538 - val_loss: 1.4773 - val_acc: 0.4812\n",
      "Epoch 40/50\n",
      "50000/50000 [==============================] - 3s 63us/step - loss: 1.5200 - acc: 0.4531 - val_loss: 1.4601 - val_acc: 0.4765\n",
      "Epoch 41/50\n",
      "50000/50000 [==============================] - 3s 64us/step - loss: 1.5159 - acc: 0.4540 - val_loss: 1.4524 - val_acc: 0.4781\n",
      "Epoch 42/50\n",
      "50000/50000 [==============================] - 3s 63us/step - loss: 1.5143 - acc: 0.4563 - val_loss: 1.4579 - val_acc: 0.4822\n",
      "Epoch 43/50\n",
      "50000/50000 [==============================] - 3s 64us/step - loss: 1.5107 - acc: 0.4582 - val_loss: 1.4614 - val_acc: 0.4838\n",
      "Epoch 44/50\n",
      "50000/50000 [==============================] - 3s 64us/step - loss: 1.5040 - acc: 0.4585 - val_loss: 1.4604 - val_acc: 0.4806\n",
      "Epoch 45/50\n",
      "50000/50000 [==============================] - 3s 63us/step - loss: 1.5011 - acc: 0.4588 - val_loss: 1.4584 - val_acc: 0.4811\n",
      "Epoch 46/50\n",
      "50000/50000 [==============================] - 3s 63us/step - loss: 1.5031 - acc: 0.4594 - val_loss: 1.4595 - val_acc: 0.4777\n",
      "Epoch 47/50\n",
      "50000/50000 [==============================] - 3s 63us/step - loss: 1.5013 - acc: 0.4616 - val_loss: 1.4604 - val_acc: 0.4734\n",
      "Epoch 48/50\n",
      "50000/50000 [==============================] - 3s 64us/step - loss: 1.5019 - acc: 0.4606 - val_loss: 1.4604 - val_acc: 0.4843\n",
      "Epoch 49/50\n",
      "50000/50000 [==============================] - 3s 63us/step - loss: 1.5056 - acc: 0.4614 - val_loss: 1.4620 - val_acc: 0.4768\n"
     ]
    },
    {
     "name": "stdout",
     "output_type": "stream",
     "text": [
      "Epoch 50/50\n",
      "50000/50000 [==============================] - 3s 62us/step - loss: 1.4948 - acc: 0.4619 - val_loss: 1.4518 - val_acc: 0.4817\n"
     ]
    }
   ],
   "source": [
    "results = {}\n",
    "\"\"\"Code Here\n",
    "撰寫你的訓練流程並將結果用 dictionary 紀錄\n",
    "\"\"\"\n",
    "model = build_mlp(Input_shape=x_train.shape[1:],drt_ratio=Dropout_EXP)\n",
    "model.summary()\n",
    "# optimizer = SGD(lr=LEARNING_RATE , momentum=MOMENTUM ,nesterov=True)\n",
    "optimizer = Adam(lr=LEARNING_RATE)\n",
    "\n",
    "model.compile(optimizer = optimizer , loss = \"categorical_crossentropy\", metrics = ['accuracy'])\n",
    "model.fit(x_train,y_train,\n",
    "         epochs= EPOCHS,\n",
    "         batch_size = BATCH_SIZE,\n",
    "         validation_data=(x_test,y_test),\n",
    "         shuffle = True)\n",
    "\n",
    "# Collect results\n",
    "train_loss = model.history.history[\"loss\"]\n",
    "valid_loss = model.history.history[\"val_loss\"]\n",
    "train_acc = model.history.history[\"acc\"]\n",
    "valid_acc = model.history.history[\"val_acc\"]"
   ]
  },
  {
   "cell_type": "code",
   "execution_count": 17,
   "metadata": {},
   "outputs": [
    {
     "data": {
      "image/png": "[encoded data removed]",
      "text/plain": [
       "<Figure size 432x288 with 1 Axes>"
      ]
     },
     "metadata": {
      "needs_background": "light"
     },
     "output_type": "display_data"
    },
    {
     "data": {
      "image/png": "[encoded data removed]",
      "text/plain": [
       "<Figure size 432x288 with 1 Axes>"
      ]
     },
     "metadata": {
      "needs_background": "light"
     },
     "output_type": "display_data"
    }
   ],
   "source": [
    "import matplotlib.pyplot as plt\n",
    "%matplotlib inline\n",
    "\"\"\"Code Here\n",
    "將結果繪出\n",
    "\"\"\"\n",
    "\n",
    "plt.plot(range(len(train_loss)),train_loss, label = \"train loss\")\n",
    "plt.plot(range(len(valid_loss)),valid_loss , label= \"valid loss\")\n",
    "plt.legend()\n",
    "plt.title(\"loss\")\n",
    "plt.show()\n",
    "\n",
    "\n",
    "plt.plot(range(len(train_acc)), train_acc, label=\"train accuracy\")\n",
    "plt.plot(range(len(valid_acc)), valid_acc, label=\"valid accuracy\")\n",
    "plt.legend()\n",
    "plt.title(\"Accuracy\")\n",
    "plt.show()"
   ]
  },
  {
   "cell_type": "code",
   "execution_count": null,
   "metadata": {},
   "outputs": [],
   "source": []
  }
 ],
 "metadata": {
  "kernelspec": {
   "display_name": "python-GPU",
   "language": "python",
   "name": "tensorflow"
  },
  "language_info": {
   "codemirror_mode": {
    "name": "ipython",
    "version": 3
   },
   "file_extension": ".py",
   "mimetype": "text/x-python",
   "name": "python",
   "nbconvert_exporter": "python",
   "pygments_lexer": "ipython3",
   "version": "3.6.8"
  }
 },
 "nbformat": 4,
 "nbformat_minor": 2
}
