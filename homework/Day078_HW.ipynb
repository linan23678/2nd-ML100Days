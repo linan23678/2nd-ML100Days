{
 "cells": [
  {
   "cell_type": "markdown",
   "metadata": {},
   "source": [
    "## Work\n",
    "1. 請嘗試將 preproc_x 替換成以每筆資料的 min/max 進行標準化至 -1 ~ 1 間，再進行訓練\n",
    "2. 請嘗試將 mlp 疊更深 (e.g 5~10 層)，進行訓練後觀察 learning curve 的走勢\n",
    "3. (optional) 請改用 GPU 進行訓練 (如果你有 GPU 的話)，比較使用 CPU 與 GPU 的訓練速度"
   ]
  },
  {
   "cell_type": "code",
   "execution_count": 1,
   "metadata": {},
   "outputs": [
    {
     "name": "stdout",
     "output_type": "stream",
     "text": [
      "Sun Jul 14 23:59:48 2019       \n",
      "+-----------------------------------------------------------------------------+\n",
      "| NVIDIA-SMI 430.86       Driver Version: 430.86       CUDA Version: 10.2     |\n",
      "|-------------------------------+----------------------+----------------------+\n",
      "| GPU  Name            TCC/WDDM | Bus-Id        Disp.A | Volatile Uncorr. ECC |\n",
      "| Fan  Temp  Perf  Pwr:Usage/Cap|         Memory-Usage | GPU-Util  Compute M. |\n",
      "|===============================+======================+======================|\n",
      "|   0  GeForce GTX 105... WDDM  | 00000000:01:00.0 Off |                  N/A |\n",
      "| N/A   40C    P8    N/A /  N/A |     75MiB /  4096MiB |      0%      Default |\n",
      "+-------------------------------+----------------------+----------------------+\n",
      "                                                                               \n",
      "+-----------------------------------------------------------------------------+\n",
      "| Processes:                                                       GPU Memory |\n",
      "|  GPU       PID   Type   Process name                             Usage      |\n",
      "|=============================================================================|\n",
      "|  No running processes found                                                 |\n",
      "+-----------------------------------------------------------------------------+\n"
     ]
    }
   ],
   "source": [
    "## \n",
    "\"\"\"\n",
    "Your code here (optional)\n",
    "確認硬體資源\n",
    "\"\"\"\n",
    "!C:\\\"Program Files\"\\\"NVIDIA Corporation\"\\NVSMI\\nvidia-smi.exe"
   ]
  },
  {
   "cell_type": "code",
   "execution_count": 2,
   "metadata": {},
   "outputs": [
    {
     "name": "stderr",
     "output_type": "stream",
     "text": [
      "Using TensorFlow backend.\n"
     ]
    }
   ],
   "source": [
    "import os\n",
    "import keras\n",
    "\n",
    "# 請嘗試設定 GPU：os.environ\n",
    "os.environ[\"CUDA_VISIBLE_DEVICES\"] = \"0\""
   ]
  },
  {
   "cell_type": "code",
   "execution_count": 3,
   "metadata": {},
   "outputs": [],
   "source": [
    "train, test = keras.datasets.cifar10.load_data()"
   ]
  },
  {
   "cell_type": "code",
   "execution_count": 4,
   "metadata": {},
   "outputs": [],
   "source": [
    "from sklearn import preprocessing"
   ]
  },
  {
   "cell_type": "code",
   "execution_count": 5,
   "metadata": {},
   "outputs": [],
   "source": [
    "## 資料前處理\n",
    "\"\"\"\n",
    "Your code here\n",
    "\"\"\"\n",
    "def preproc_x(x):\n",
    "    x = x.reshape((len(x),-1))\n",
    "    max_abs_scaler= preprocessing.MaxAbsScaler()\n",
    "    x = max_abs_scaler.fit_transform(x)\n",
    "    return x \n",
    "\n",
    "def preproc_y(y, num_classes = 10):\n",
    "    if y.shape[-1] == 1:\n",
    "        y = keras.utils.to_categorical(y, num_classes)\n",
    "    return y    "
   ]
  },
  {
   "cell_type": "code",
   "execution_count": 6,
   "metadata": {},
   "outputs": [],
   "source": [
    "x_train, y_train = train\n",
    "x_test, y_test = test\n",
    "\n",
    "# Preproc the inputs\n",
    "x_train = preproc_x(x_train)\n",
    "x_test = preproc_x(x_test)\n",
    "\n",
    "# Preprc the outputs\n",
    "y_train = preproc_y(y_train)\n",
    "y_test = preproc_y(y_test)"
   ]
  },
  {
   "cell_type": "code",
   "execution_count": 8,
   "metadata": {},
   "outputs": [
    {
     "name": "stdout",
     "output_type": "stream",
     "text": [
      "_________________________________________________________________\n",
      "Layer (type)                 Output Shape              Param #   \n",
      "=================================================================\n",
      "input_1 (InputLayer)         (None, 3072)              0         \n",
      "_________________________________________________________________\n",
      "hidden_layer1 (Dense)        (None, 512)               1573376   \n",
      "_________________________________________________________________\n",
      "hidden_layer2 (Dense)        (None, 256)               131328    \n",
      "_________________________________________________________________\n",
      "hidden_layer3 (Dense)        (None, 128)               32896     \n",
      "_________________________________________________________________\n",
      "hidden_layer4 (Dense)        (None, 64)                8256      \n",
      "_________________________________________________________________\n",
      "hidden_layer5 (Dense)        (None, 32)                2080      \n",
      "_________________________________________________________________\n",
      "output (Dense)               (None, 10)                330       \n",
      "=================================================================\n",
      "Total params: 1,748,266\n",
      "Trainable params: 1,748,266\n",
      "Non-trainable params: 0\n",
      "_________________________________________________________________\n"
     ]
    }
   ],
   "source": [
    "\"\"\"Code Here\n",
    "建立你的神經網路\n",
    "\"\"\"\n",
    "def build_mlp(input_shape, output_units=10, num_neurons=[512, 256, 128, 64, 32]):\n",
    "    input_layer = keras.layers.Input(input_shape)\n",
    "    \n",
    "    for i, n_units in enumerate(num_neurons):\n",
    "        if i == 0:\n",
    "            x = keras.layers.Dense(units=n_units, activation=\"relu\", name=\"hidden_layer\"+str(i+1))(input_layer)\n",
    "        else:\n",
    "            x = keras.layers.Dense(units=n_units, activation=\"relu\", name=\"hidden_layer\"+str(i+1))(x)\n",
    "    \n",
    "    out = keras.layers.Dense(units=output_units, activation=\"softmax\", name=\"output\")(x)\n",
    "    \n",
    "    model = keras.models.Model(inputs=[input_layer], outputs=[out])\n",
    "    return model\n",
    "\n",
    "model = build_mlp(input_shape=x_train.shape[1:])\n",
    "model.summary()"
   ]
  },
  {
   "cell_type": "code",
   "execution_count": 12,
   "metadata": {},
   "outputs": [],
   "source": [
    "## 超參數設定\n",
    "LEARNING_RATE = 0.001\n",
    "EPOCHS = 100\n",
    "BATCH_SIZE = 256"
   ]
  },
  {
   "cell_type": "code",
   "execution_count": 13,
   "metadata": {},
   "outputs": [],
   "source": [
    "optimizer = keras.optimizers.Adam(lr=LEARNING_RATE)\n",
    "model.compile(loss=\"categorical_crossentropy\", metrics=[\"accuracy\"], optimizer=optimizer)"
   ]
  },
  {
   "cell_type": "code",
   "execution_count": 14,
   "metadata": {},
   "outputs": [
    {
     "name": "stdout",
     "output_type": "stream",
     "text": [
      "Train on 50000 samples, validate on 10000 samples\n",
      "Epoch 1/100\n",
      "50000/50000 [==============================] - 6s 112us/step - loss: 1.9768 - acc: 0.2710 - val_loss: 1.8525 - val_acc: 0.3413\n",
      "Epoch 2/100\n",
      "50000/50000 [==============================] - 3s 66us/step - loss: 1.7683 - acc: 0.3609 - val_loss: 1.7413 - val_acc: 0.3681\n",
      "Epoch 3/100\n",
      "50000/50000 [==============================] - 3s 66us/step - loss: 1.6694 - acc: 0.3973 - val_loss: 1.6346 - val_acc: 0.4017\n",
      "Epoch 4/100\n",
      "50000/50000 [==============================] - 3s 66us/step - loss: 1.5908 - acc: 0.4314 - val_loss: 1.5412 - val_acc: 0.4546\n",
      "Epoch 5/100\n",
      "50000/50000 [==============================] - 3s 65us/step - loss: 1.5450 - acc: 0.4483 - val_loss: 1.5639 - val_acc: 0.4481\n",
      "Epoch 6/100\n",
      "50000/50000 [==============================] - 3s 63us/step - loss: 1.4983 - acc: 0.4650 - val_loss: 1.5311 - val_acc: 0.4563\n",
      "Epoch 7/100\n",
      "50000/50000 [==============================] - 3s 64us/step - loss: 1.4624 - acc: 0.4783 - val_loss: 1.4457 - val_acc: 0.4848\n",
      "Epoch 8/100\n",
      "50000/50000 [==============================] - 3s 63us/step - loss: 1.4264 - acc: 0.4896 - val_loss: 1.4577 - val_acc: 0.4817\n",
      "Epoch 9/100\n",
      "50000/50000 [==============================] - 3s 65us/step - loss: 1.3978 - acc: 0.5005 - val_loss: 1.4281 - val_acc: 0.4892\n",
      "Epoch 10/100\n",
      "50000/50000 [==============================] - 3s 65us/step - loss: 1.3715 - acc: 0.5120 - val_loss: 1.4624 - val_acc: 0.4827A: 1s - loss:\n",
      "Epoch 11/100\n",
      "50000/50000 [==============================] - 3s 67us/step - loss: 1.3398 - acc: 0.5205 - val_loss: 1.4374 - val_acc: 0.4860\n",
      "Epoch 12/100\n",
      "50000/50000 [==============================] - 3s 65us/step - loss: 1.3289 - acc: 0.5267 - val_loss: 1.3875 - val_acc: 0.5120\n",
      "Epoch 13/100\n",
      "50000/50000 [==============================] - 3s 66us/step - loss: 1.2882 - acc: 0.5399 - val_loss: 1.3953 - val_acc: 0.5066\n",
      "Epoch 14/100\n",
      "50000/50000 [==============================] - 3s 65us/step - loss: 1.2707 - acc: 0.5457 - val_loss: 1.3992 - val_acc: 0.5038\n",
      "Epoch 15/100\n",
      "50000/50000 [==============================] - 3s 65us/step - loss: 1.2577 - acc: 0.5521 - val_loss: 1.4188 - val_acc: 0.4998\n",
      "Epoch 16/100\n",
      "50000/50000 [==============================] - 3s 64us/step - loss: 1.2289 - acc: 0.5594 - val_loss: 1.3792 - val_acc: 0.5104\n",
      "Epoch 17/100\n",
      "50000/50000 [==============================] - 3s 65us/step - loss: 1.2012 - acc: 0.5703 - val_loss: 1.3792 - val_acc: 0.5170\n",
      "Epoch 18/100\n",
      "50000/50000 [==============================] - 3s 65us/step - loss: 1.1834 - acc: 0.5770 - val_loss: 1.4033 - val_acc: 0.5075\n",
      "Epoch 19/100\n",
      "50000/50000 [==============================] - 3s 64us/step - loss: 1.1653 - acc: 0.5824 - val_loss: 1.3752 - val_acc: 0.5217\n",
      "Epoch 20/100\n",
      "50000/50000 [==============================] - 3s 64us/step - loss: 1.1458 - acc: 0.5887 - val_loss: 1.3732 - val_acc: 0.5171\n",
      "Epoch 21/100\n",
      "50000/50000 [==============================] - 3s 64us/step - loss: 1.1386 - acc: 0.5916 - val_loss: 1.3768 - val_acc: 0.5224\n",
      "Epoch 22/100\n",
      "50000/50000 [==============================] - 3s 64us/step - loss: 1.1199 - acc: 0.5996 - val_loss: 1.3779 - val_acc: 0.5266\n",
      "Epoch 23/100\n",
      "50000/50000 [==============================] - 3s 64us/step - loss: 1.0859 - acc: 0.6127 - val_loss: 1.3829 - val_acc: 0.5325\n",
      "Epoch 24/100\n",
      "50000/50000 [==============================] - 3s 64us/step - loss: 1.0657 - acc: 0.6178 - val_loss: 1.4070 - val_acc: 0.5233\n",
      "Epoch 25/100\n",
      "50000/50000 [==============================] - 3s 64us/step - loss: 1.0580 - acc: 0.6213 - val_loss: 1.4314 - val_acc: 0.5169\n",
      "Epoch 26/100\n",
      "50000/50000 [==============================] - 3s 64us/step - loss: 1.0353 - acc: 0.6280 - val_loss: 1.3801 - val_acc: 0.5282\n",
      "Epoch 27/100\n",
      "50000/50000 [==============================] - 3s 65us/step - loss: 1.0142 - acc: 0.6392 - val_loss: 1.4259 - val_acc: 0.5169\n",
      "Epoch 28/100\n",
      "50000/50000 [==============================] - 3s 64us/step - loss: 1.0007 - acc: 0.6416 - val_loss: 1.4083 - val_acc: 0.5274\n",
      "Epoch 29/100\n",
      "50000/50000 [==============================] - 3s 64us/step - loss: 0.9817 - acc: 0.6489 - val_loss: 1.4349 - val_acc: 0.5241\n",
      "Epoch 30/100\n",
      "50000/50000 [==============================] - 3s 64us/step - loss: 0.9725 - acc: 0.6505 - val_loss: 1.4560 - val_acc: 0.5166\n",
      "Epoch 31/100\n",
      "50000/50000 [==============================] - 3s 64us/step - loss: 0.9475 - acc: 0.6598 - val_loss: 1.4564 - val_acc: 0.5258\n",
      "Epoch 32/100\n",
      "50000/50000 [==============================] - 3s 64us/step - loss: 0.9186 - acc: 0.6709 - val_loss: 1.4887 - val_acc: 0.5218A: 1s - loss: 0.\n",
      "Epoch 33/100\n",
      "50000/50000 [==============================] - 3s 64us/step - loss: 0.9041 - acc: 0.6762 - val_loss: 1.4844 - val_acc: 0.5219\n",
      "Epoch 34/100\n",
      "50000/50000 [==============================] - 3s 64us/step - loss: 0.8990 - acc: 0.6763 - val_loss: 1.4812 - val_acc: 0.5258\n",
      "Epoch 35/100\n",
      "50000/50000 [==============================] - 3s 65us/step - loss: 0.8740 - acc: 0.6871 - val_loss: 1.5147 - val_acc: 0.5182\n",
      "Epoch 36/100\n",
      "50000/50000 [==============================] - 3s 65us/step - loss: 0.8621 - acc: 0.6922 - val_loss: 1.4923 - val_acc: 0.5313\n",
      "Epoch 37/100\n",
      "50000/50000 [==============================] - 3s 65us/step - loss: 0.8314 - acc: 0.7012 - val_loss: 1.5885 - val_acc: 0.5078\n",
      "Epoch 38/100\n",
      "50000/50000 [==============================] - 3s 65us/step - loss: 0.8278 - acc: 0.7033 - val_loss: 1.5529 - val_acc: 0.5266\n",
      "Epoch 39/100\n",
      "50000/50000 [==============================] - 3s 64us/step - loss: 0.8042 - acc: 0.7126 - val_loss: 1.5909 - val_acc: 0.5153\n",
      "Epoch 40/100\n",
      "50000/50000 [==============================] - 3s 64us/step - loss: 0.7959 - acc: 0.7149 - val_loss: 1.5982 - val_acc: 0.5220\n",
      "Epoch 41/100\n",
      "50000/50000 [==============================] - 3s 64us/step - loss: 0.7757 - acc: 0.7204 - val_loss: 1.6306 - val_acc: 0.5215\n",
      "Epoch 42/100\n",
      "50000/50000 [==============================] - 3s 65us/step - loss: 0.7673 - acc: 0.7254 - val_loss: 1.6510 - val_acc: 0.5237\n",
      "Epoch 43/100\n",
      "50000/50000 [==============================] - 3s 64us/step - loss: 0.7562 - acc: 0.7288 - val_loss: 1.6768 - val_acc: 0.5216\n",
      "Epoch 44/100\n",
      "50000/50000 [==============================] - 3s 65us/step - loss: 0.7290 - acc: 0.7372 - val_loss: 1.7234 - val_acc: 0.5167\n",
      "Epoch 45/100\n",
      "50000/50000 [==============================] - 3s 65us/step - loss: 0.7379 - acc: 0.7362 - val_loss: 1.7237 - val_acc: 0.5143\n",
      "Epoch 46/100\n",
      "50000/50000 [==============================] - 3s 65us/step - loss: 0.7110 - acc: 0.7449 - val_loss: 1.7590 - val_acc: 0.5123\n",
      "Epoch 47/100\n",
      "50000/50000 [==============================] - 3s 64us/step - loss: 0.6953 - acc: 0.7497 - val_loss: 1.7670 - val_acc: 0.5102\n",
      "Epoch 48/100\n",
      "50000/50000 [==============================] - 3s 65us/step - loss: 0.6809 - acc: 0.7534 - val_loss: 1.7775 - val_acc: 0.5104\n",
      "Epoch 49/100\n",
      "50000/50000 [==============================] - 3s 66us/step - loss: 0.6670 - acc: 0.7598 - val_loss: 1.7828 - val_acc: 0.5135\n",
      "Epoch 50/100\n",
      "50000/50000 [==============================] - 3s 65us/step - loss: 0.6556 - acc: 0.7656 - val_loss: 1.8197 - val_acc: 0.5165\n",
      "Epoch 51/100\n",
      "50000/50000 [==============================] - 3s 64us/step - loss: 0.6492 - acc: 0.7659 - val_loss: 1.8463 - val_acc: 0.5094\n",
      "Epoch 52/100\n",
      "50000/50000 [==============================] - 3s 64us/step - loss: 0.6442 - acc: 0.7674 - val_loss: 1.8872 - val_acc: 0.5096\n",
      "Epoch 53/100\n",
      "50000/50000 [==============================] - 3s 65us/step - loss: 0.6137 - acc: 0.7810 - val_loss: 1.8957 - val_acc: 0.5140\n",
      "Epoch 54/100\n",
      "50000/50000 [==============================] - 3s 64us/step - loss: 0.6127 - acc: 0.7809 - val_loss: 1.9212 - val_acc: 0.5095\n",
      "Epoch 55/100\n",
      "50000/50000 [==============================] - 3s 66us/step - loss: 0.5918 - acc: 0.7879 - val_loss: 1.9387 - val_acc: 0.5151\n",
      "Epoch 56/100\n",
      "50000/50000 [==============================] - 3s 64us/step - loss: 0.5886 - acc: 0.7894 - val_loss: 1.9992 - val_acc: 0.5013\n",
      "Epoch 57/100\n",
      "50000/50000 [==============================] - 3s 64us/step - loss: 0.5689 - acc: 0.7953 - val_loss: 2.0929 - val_acc: 0.5048\n",
      "Epoch 58/100\n",
      "50000/50000 [==============================] - 3s 65us/step - loss: 0.5682 - acc: 0.7950 - val_loss: 2.0084 - val_acc: 0.5093\n",
      "Epoch 59/100\n"
     ]
    },
    {
     "name": "stdout",
     "output_type": "stream",
     "text": [
      "50000/50000 [==============================] - 3s 63us/step - loss: 0.5583 - acc: 0.8005 - val_loss: 2.0797 - val_acc: 0.5069\n",
      "Epoch 60/100\n",
      "50000/50000 [==============================] - 3s 63us/step - loss: 0.5787 - acc: 0.7911 - val_loss: 2.0296 - val_acc: 0.5064\n",
      "Epoch 61/100\n",
      "50000/50000 [==============================] - 3s 63us/step - loss: 0.5351 - acc: 0.8070 - val_loss: 2.0380 - val_acc: 0.5095\n",
      "Epoch 62/100\n",
      "50000/50000 [==============================] - 3s 63us/step - loss: 0.5318 - acc: 0.8082 - val_loss: 2.2309 - val_acc: 0.5043\n",
      "Epoch 63/100\n",
      "50000/50000 [==============================] - 3s 63us/step - loss: 0.5275 - acc: 0.8103 - val_loss: 2.1427 - val_acc: 0.5113\n",
      "Epoch 64/100\n",
      "50000/50000 [==============================] - 3s 64us/step - loss: 0.5012 - acc: 0.8214 - val_loss: 2.1921 - val_acc: 0.5096\n",
      "Epoch 65/100\n",
      "50000/50000 [==============================] - 3s 63us/step - loss: 0.5079 - acc: 0.8166 - val_loss: 2.2313 - val_acc: 0.5076\n",
      "Epoch 66/100\n",
      "50000/50000 [==============================] - 3s 64us/step - loss: 0.4931 - acc: 0.8232 - val_loss: 2.2515 - val_acc: 0.5035\n",
      "Epoch 67/100\n",
      "50000/50000 [==============================] - 3s 63us/step - loss: 0.4959 - acc: 0.8227 - val_loss: 2.3235 - val_acc: 0.5023\n",
      "Epoch 68/100\n",
      "50000/50000 [==============================] - 3s 63us/step - loss: 0.4846 - acc: 0.8258 - val_loss: 2.3159 - val_acc: 0.4995\n",
      "Epoch 69/100\n",
      "50000/50000 [==============================] - 3s 63us/step - loss: 0.4943 - acc: 0.8222 - val_loss: 2.2852 - val_acc: 0.5044\n",
      "Epoch 70/100\n",
      "50000/50000 [==============================] - 3s 63us/step - loss: 0.4695 - acc: 0.8316 - val_loss: 2.3447 - val_acc: 0.4949\n",
      "Epoch 71/100\n",
      "50000/50000 [==============================] - 3s 64us/step - loss: 0.4517 - acc: 0.8363 - val_loss: 2.4188 - val_acc: 0.4947\n",
      "Epoch 72/100\n",
      "50000/50000 [==============================] - 3s 64us/step - loss: 0.4454 - acc: 0.8404 - val_loss: 2.3902 - val_acc: 0.5025\n",
      "Epoch 73/100\n",
      "50000/50000 [==============================] - 3s 63us/step - loss: 0.4481 - acc: 0.8383 - val_loss: 2.3919 - val_acc: 0.5042\n",
      "Epoch 74/100\n",
      "50000/50000 [==============================] - 3s 63us/step - loss: 0.4465 - acc: 0.8400 - val_loss: 2.4220 - val_acc: 0.5004\n",
      "Epoch 75/100\n",
      "50000/50000 [==============================] - 3s 63us/step - loss: 0.4398 - acc: 0.8413 - val_loss: 2.4941 - val_acc: 0.4944\n",
      "Epoch 76/100\n",
      "50000/50000 [==============================] - 3s 64us/step - loss: 0.4197 - acc: 0.8502 - val_loss: 2.4958 - val_acc: 0.5030\n",
      "Epoch 77/100\n",
      "50000/50000 [==============================] - 3s 63us/step - loss: 0.4253 - acc: 0.8466 - val_loss: 2.4924 - val_acc: 0.5012\n",
      "Epoch 78/100\n",
      "50000/50000 [==============================] - 3s 63us/step - loss: 0.4354 - acc: 0.8421 - val_loss: 2.5044 - val_acc: 0.5016\n",
      "Epoch 79/100\n",
      "50000/50000 [==============================] - 3s 63us/step - loss: 0.4129 - acc: 0.8501 - val_loss: 2.7264 - val_acc: 0.4878\n",
      "Epoch 80/100\n",
      "50000/50000 [==============================] - 3s 63us/step - loss: 0.4044 - acc: 0.8550 - val_loss: 2.6207 - val_acc: 0.4967\n",
      "Epoch 81/100\n",
      "50000/50000 [==============================] - 3s 63us/step - loss: 0.4006 - acc: 0.8579 - val_loss: 2.6942 - val_acc: 0.4954\n",
      "Epoch 82/100\n",
      "50000/50000 [==============================] - 3s 63us/step - loss: 0.4348 - acc: 0.8424 - val_loss: 2.6080 - val_acc: 0.4933\n",
      "Epoch 83/100\n",
      "50000/50000 [==============================] - 3s 63us/step - loss: 0.4062 - acc: 0.8537 - val_loss: 2.6227 - val_acc: 0.5036\n",
      "Epoch 84/100\n",
      "50000/50000 [==============================] - 3s 63us/step - loss: 0.3653 - acc: 0.8689 - val_loss: 2.7350 - val_acc: 0.4987\n",
      "Epoch 85/100\n",
      "50000/50000 [==============================] - 3s 63us/step - loss: 0.3760 - acc: 0.8648 - val_loss: 2.5703 - val_acc: 0.5000\n",
      "Epoch 86/100\n",
      "50000/50000 [==============================] - 3s 63us/step - loss: 0.3839 - acc: 0.8597 - val_loss: 2.6718 - val_acc: 0.4930\n",
      "Epoch 87/100\n",
      "50000/50000 [==============================] - 3s 63us/step - loss: 0.3583 - acc: 0.8725 - val_loss: 2.7679 - val_acc: 0.5013\n",
      "Epoch 88/100\n",
      "50000/50000 [==============================] - 3s 64us/step - loss: 0.3756 - acc: 0.8650 - val_loss: 2.7275 - val_acc: 0.4947\n",
      "Epoch 89/100\n",
      "50000/50000 [==============================] - 3s 63us/step - loss: 0.4024 - acc: 0.8553 - val_loss: 2.8156 - val_acc: 0.4958\n",
      "Epoch 90/100\n",
      "50000/50000 [==============================] - 3s 63us/step - loss: 0.3612 - acc: 0.8714 - val_loss: 2.8161 - val_acc: 0.4986\n",
      "Epoch 91/100\n",
      "50000/50000 [==============================] - 3s 63us/step - loss: 0.3504 - acc: 0.8741 - val_loss: 2.8699 - val_acc: 0.4915\n",
      "Epoch 92/100\n",
      "50000/50000 [==============================] - 3s 63us/step - loss: 0.3656 - acc: 0.8681 - val_loss: 2.9405 - val_acc: 0.5012\n",
      "Epoch 93/100\n",
      "50000/50000 [==============================] - 3s 63us/step - loss: 0.3256 - acc: 0.8846 - val_loss: 2.9054 - val_acc: 0.4891\n",
      "Epoch 94/100\n",
      "50000/50000 [==============================] - 3s 63us/step - loss: 0.3564 - acc: 0.8722 - val_loss: 2.9345 - val_acc: 0.4921\n",
      "Epoch 95/100\n",
      "50000/50000 [==============================] - 3s 63us/step - loss: 0.3474 - acc: 0.8761 - val_loss: 2.8338 - val_acc: 0.4996\n",
      "Epoch 96/100\n",
      "50000/50000 [==============================] - 3s 63us/step - loss: 0.3063 - acc: 0.8909 - val_loss: 2.9997 - val_acc: 0.5027\n",
      "Epoch 97/100\n",
      "50000/50000 [==============================] - 3s 63us/step - loss: 0.3406 - acc: 0.8776 - val_loss: 2.9980 - val_acc: 0.4885\n",
      "Epoch 98/100\n",
      "50000/50000 [==============================] - 3s 63us/step - loss: 0.3585 - acc: 0.8705 - val_loss: 2.8971 - val_acc: 0.4988\n",
      "Epoch 99/100\n",
      "50000/50000 [==============================] - 3s 63us/step - loss: 0.3245 - acc: 0.8821 - val_loss: 2.9433 - val_acc: 0.5005\n",
      "Epoch 100/100\n",
      "50000/50000 [==============================] - 3s 63us/step - loss: 0.3340 - acc: 0.8804 - val_loss: 2.9809 - val_acc: 0.4958\n"
     ]
    },
    {
     "data": {
      "text/plain": [
       "<keras.callbacks.History at 0x1d00031d588>"
      ]
     },
     "execution_count": 14,
     "metadata": {},
     "output_type": "execute_result"
    }
   ],
   "source": [
    "model.fit(x_train, y_train, \n",
    "          epochs=EPOCHS, \n",
    "          batch_size=BATCH_SIZE, \n",
    "          validation_data=(x_test, y_test), \n",
    "          shuffle=True)"
   ]
  },
  {
   "cell_type": "code",
   "execution_count": 16,
   "metadata": {},
   "outputs": [
    {
     "data": {
      "image/png": "[encoded data removed]",
      "text/plain": [
       "<Figure size 432x288 with 1 Axes>"
      ]
     },
     "metadata": {
      "needs_background": "light"
     },
     "output_type": "display_data"
    },
    {
     "data": {
      "image/png": "[encoded data removed]",
      "text/plain": [
       "<Figure size 432x288 with 1 Axes>"
      ]
     },
     "metadata": {
      "needs_background": "light"
     },
     "output_type": "display_data"
    }
   ],
   "source": [
    "import matplotlib.pyplot as plt\n",
    "\n",
    "\n",
    "train_loss = model.history.history[\"loss\"]\n",
    "valid_loss = model.history.history[\"val_loss\"]\n",
    "\n",
    "train_acc = model.history.history[\"acc\"]\n",
    "valid_acc = model.history.history[\"val_acc\"]\n",
    "\n",
    "plt.plot(range(len(train_loss)), train_loss, label=\"train loss\")\n",
    "plt.plot(range(len(valid_loss)), valid_loss, label=\"valid loss\")\n",
    "plt.legend()\n",
    "plt.title(\"Loss\")\n",
    "plt.show()\n",
    "\n",
    "plt.plot(range(len(train_acc)), train_acc, label=\"train accuracy\")\n",
    "plt.plot(range(len(valid_acc)), valid_acc, label=\"valid accuracy\")\n",
    "plt.legend()\n",
    "plt.title(\"Accuracy\")\n",
    "plt.show()"
   ]
  },
  {
   "cell_type": "code",
   "execution_count": null,
   "metadata": {},
   "outputs": [],
   "source": []
  }
 ],
 "metadata": {
  "kernelspec": {
   "display_name": "Python (tensorflow-GPU)",
   "language": "python",
   "name": "myenv"
  },
  "language_info": {
   "codemirror_mode": {
    "name": "ipython",
    "version": 3
   },
   "file_extension": ".py",
   "mimetype": "text/x-python",
   "name": "python",
   "nbconvert_exporter": "python",
   "pygments_lexer": "ipython3",
   "version": "3.5.6"
  }
 },
 "nbformat": 4,
 "nbformat_minor": 2
}
