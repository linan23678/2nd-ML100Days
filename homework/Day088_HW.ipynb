{
 "cells": [
  {
   "cell_type": "markdown",
   "metadata": {},
   "source": [
    "## Work\n",
    "1. 請嘗試寫一個 callback 用來記錄各類別在訓練過程中，對驗證集的 True Positive 與 True Negative"
   ]
  },
  {
   "cell_type": "code",
   "execution_count": 1,
   "metadata": {},
   "outputs": [
    {
     "name": "stderr",
     "output_type": "stream",
     "text": [
      "Using TensorFlow backend.\n"
     ]
    }
   ],
   "source": [
    "import os\n",
    "import keras\n",
    "\n",
    "# Disable GPU\n",
    "os.environ[\"CUDA_VISIBLE_DEVICES\"] = \"\""
   ]
  },
  {
   "cell_type": "code",
   "execution_count": 2,
   "metadata": {},
   "outputs": [],
   "source": [
    "train, test = keras.datasets.cifar10.load_data()"
   ]
  },
  {
   "cell_type": "code",
   "execution_count": 3,
   "metadata": {},
   "outputs": [],
   "source": [
    "## 資料前處理\n",
    "def preproc_x(x, flatten=True):\n",
    "    x = x / 255.\n",
    "    if flatten:\n",
    "        x = x.reshape((len(x), -1))\n",
    "    return x\n",
    "\n",
    "def preproc_y(y, num_classes=10):\n",
    "    if y.shape[-1] == 1:\n",
    "        y = keras.utils.to_categorical(y, num_classes)\n",
    "    return y    "
   ]
  },
  {
   "cell_type": "code",
   "execution_count": 4,
   "metadata": {},
   "outputs": [],
   "source": [
    "x_train, y_train = train\n",
    "x_test, y_test = test\n",
    "\n",
    "# Preproc the inputs\n",
    "x_train = preproc_x(x_train)\n",
    "x_test = preproc_x(x_test)\n",
    "\n",
    "# Preprc the outputs\n",
    "y_train = preproc_y(y_train)\n",
    "y_test = preproc_y(y_test)"
   ]
  },
  {
   "cell_type": "code",
   "execution_count": 5,
   "metadata": {},
   "outputs": [],
   "source": [
    "from keras.layers import BatchNormalization\n",
    "def build_mlp(input_shape, output_units=10, num_neurons=[256, 256, 256]):\n",
    "    \"\"\"Code Here\n",
    "    建立你的神經網路\n",
    "    \"\"\"\n",
    "    input_layer = keras.layers.Input(input_shape)\n",
    "    for i , n_units in enumerate(num_neurons):\n",
    "        if i ==0:\n",
    "            x = keras.layers.Dense(units=n_units, activation=\"relu\", name = \"hidden_layer\"+str(i+1))(input_layer)\n",
    "            x = BatchNormalization()(x)\n",
    "        else :\n",
    "            x = keras.layers.Dense(units=n_units, activation=\"relu\",name = \"hidden__layer\"+str(i+1))(x)\n",
    "            x = BatchNormalization()(x)\n",
    "    out = keras.layers.Dense(units=output_units,activation=\"softmax\",name = \"output\")(x)\n",
    "    model = keras.models.Model(inputs = [input_layer],outputs = [out])\n",
    "            \n",
    "    return model"
   ]
  },
  {
   "cell_type": "code",
   "execution_count": 6,
   "metadata": {},
   "outputs": [],
   "source": [
    "## 超參數設定\n",
    "LEARNING_RATE = 1e-3\n",
    "EPOCHS = 25\n",
    "BATCH_SIZE = 1024\n",
    "MOMENTUM = 0.95"
   ]
  },
  {
   "cell_type": "markdown",
   "metadata": {},
   "source": [
    "Ture positive https://www.ycc.idv.tw/confusion-matrix.html"
   ]
  },
  {
   "cell_type": "code",
   "execution_count": 18,
   "metadata": {},
   "outputs": [],
   "source": [
    "# 載入 Callbacks\n",
    "from keras.callbacks import Callback\n",
    "\n",
    "# Record_fp_tp\n",
    "class Record_tp_tn(Callback):\n",
    "    \"\"\"Code Here\n",
    "    撰寫一個紀錄 ture positive 與 true negative 數量的 callbacks    \n",
    "    \"\"\"\n",
    "    def on_train_brgin(self, epoch , logs={}):\n",
    "        logs = logs or {}\n",
    "        record_items  = [\"val_auc\", \"val_f1sc\", \"val_fp\", \"val_fn\", \"val_tp\", \"val_tn\"]\n",
    "        for i in record_items:\n",
    "            if i not in self.params['metrics']:\n",
    "                self.params['metrics'].append(i)\n",
    "    \n",
    "    def on_epoch_end(self , epoch , logs={} , thres = 0.5):\n",
    "        y_ture = self.validation_data[1].argmax(axis = 1)\n",
    "        y_pred = self.model.predict(self.validation_data[0])\n",
    "        y_pred = (y_pred[:, 1] >= thres) * 1\n",
    "        \n",
    "        ture_pos = sum((y_ture==1) & (y_pred==1))\n",
    "        ture_neg = sum((y_ture==0) & (y_pred==0))\n",
    "        \n",
    "#         logs[\"val_f1sc\"] = f1_score(y_true = y_true, y_pred = y_pred, average=\"weighted\")\n",
    "        \n",
    "        logs['ture_pos'] = ture_pos\n",
    "        logs['ture_neg'] = ture_neg\n",
    "        \n",
    "rec_tptn = Record_tp_tn()"
   ]
  },
  {
   "cell_type": "code",
   "execution_count": 19,
   "metadata": {
    "scrolled": false
   },
   "outputs": [
    {
     "name": "stdout",
     "output_type": "stream",
     "text": [
      "_________________________________________________________________\n",
      "Layer (type)                 Output Shape              Param #   \n",
      "=================================================================\n",
      "input_6 (InputLayer)         (None, 3072)              0         \n",
      "_________________________________________________________________\n",
      "hidden_layer1 (Dense)        (None, 256)               786688    \n",
      "_________________________________________________________________\n",
      "batch_normalization_16 (Batc (None, 256)               1024      \n",
      "_________________________________________________________________\n",
      "hidden__layer2 (Dense)       (None, 256)               65792     \n",
      "_________________________________________________________________\n",
      "batch_normalization_17 (Batc (None, 256)               1024      \n",
      "_________________________________________________________________\n",
      "hidden__layer3 (Dense)       (None, 256)               65792     \n",
      "_________________________________________________________________\n",
      "batch_normalization_18 (Batc (None, 256)               1024      \n",
      "_________________________________________________________________\n",
      "output (Dense)               (None, 10)                2570      \n",
      "=================================================================\n",
      "Total params: 923,914\n",
      "Trainable params: 922,378\n",
      "Non-trainable params: 1,536\n",
      "_________________________________________________________________\n",
      "Train on 50000 samples, validate on 10000 samples\n",
      "Epoch 1/25\n",
      "50000/50000 [==============================] - 3s 65us/step - loss: 2.2211 - acc: 0.2697 - val_loss: 2.1515 - val_acc: 0.2966\n",
      "Epoch 2/25\n",
      "50000/50000 [==============================] - 2s 42us/step - loss: 1.7657 - acc: 0.3840 - val_loss: 1.8429 - val_acc: 0.3639\n",
      "Epoch 3/25\n",
      "50000/50000 [==============================] - 2s 40us/step - loss: 1.6309 - acc: 0.4288 - val_loss: 1.6862 - val_acc: 0.4160\n",
      "Epoch 4/25\n",
      "50000/50000 [==============================] - 2s 39us/step - loss: 1.5563 - acc: 0.4562 - val_loss: 1.6438 - val_acc: 0.4237\n",
      "Epoch 5/25\n",
      "50000/50000 [==============================] - 2s 40us/step - loss: 1.5024 - acc: 0.4744 - val_loss: 1.5927 - val_acc: 0.4412\n",
      "Epoch 6/25\n",
      "50000/50000 [==============================] - 2s 39us/step - loss: 1.4591 - acc: 0.4893 - val_loss: 1.5814 - val_acc: 0.4439\n",
      "Epoch 7/25\n",
      "50000/50000 [==============================] - 2s 39us/step - loss: 1.4225 - acc: 0.5041 - val_loss: 1.5441 - val_acc: 0.4600\n",
      "Epoch 8/25\n",
      "50000/50000 [==============================] - 2s 40us/step - loss: 1.3909 - acc: 0.5144 - val_loss: 1.5429 - val_acc: 0.4613\n",
      "Epoch 9/25\n",
      "50000/50000 [==============================] - 2s 40us/step - loss: 1.3594 - acc: 0.5258 - val_loss: 1.5130 - val_acc: 0.4680\n",
      "Epoch 10/25\n",
      "50000/50000 [==============================] - 2s 41us/step - loss: 1.3326 - acc: 0.5354 - val_loss: 1.5005 - val_acc: 0.4738\n",
      "Epoch 11/25\n",
      "50000/50000 [==============================] - 2s 39us/step - loss: 1.3065 - acc: 0.5459 - val_loss: 1.4900 - val_acc: 0.4796\n",
      "Epoch 12/25\n",
      "50000/50000 [==============================] - 2s 40us/step - loss: 1.2852 - acc: 0.5537 - val_loss: 1.4841 - val_acc: 0.4787\n",
      "Epoch 13/25\n",
      "50000/50000 [==============================] - 2s 40us/step - loss: 1.2616 - acc: 0.5614 - val_loss: 1.4766 - val_acc: 0.4855\n",
      "Epoch 14/25\n",
      "50000/50000 [==============================] - 2s 40us/step - loss: 1.2384 - acc: 0.5695 - val_loss: 1.4725 - val_acc: 0.4868\n",
      "Epoch 15/25\n",
      "50000/50000 [==============================] - 2s 41us/step - loss: 1.2181 - acc: 0.5774 - val_loss: 1.4667 - val_acc: 0.4896\n",
      "Epoch 16/25\n",
      "50000/50000 [==============================] - 2s 39us/step - loss: 1.1985 - acc: 0.5854 - val_loss: 1.4620 - val_acc: 0.4915\n",
      "Epoch 17/25\n",
      "50000/50000 [==============================] - 2s 39us/step - loss: 1.1784 - acc: 0.5919 - val_loss: 1.4483 - val_acc: 0.4946\n",
      "Epoch 18/25\n",
      "50000/50000 [==============================] - 2s 39us/step - loss: 1.1590 - acc: 0.6004 - val_loss: 1.4540 - val_acc: 0.4940\n",
      "Epoch 19/25\n",
      "50000/50000 [==============================] - 2s 39us/step - loss: 1.1414 - acc: 0.6068 - val_loss: 1.4459 - val_acc: 0.4921\n",
      "Epoch 20/25\n",
      "50000/50000 [==============================] - 2s 40us/step - loss: 1.1239 - acc: 0.6129 - val_loss: 1.4446 - val_acc: 0.4961\n",
      "Epoch 21/25\n",
      "50000/50000 [==============================] - 2s 39us/step - loss: 1.1059 - acc: 0.6176 - val_loss: 1.4378 - val_acc: 0.4942\n",
      "Epoch 22/25\n",
      "50000/50000 [==============================] - 2s 40us/step - loss: 1.0882 - acc: 0.6252 - val_loss: 1.4406 - val_acc: 0.4979\n",
      "Epoch 23/25\n",
      "50000/50000 [==============================] - 2s 40us/step - loss: 1.0691 - acc: 0.6338 - val_loss: 1.4353 - val_acc: 0.5006\n",
      "Epoch 24/25\n",
      "50000/50000 [==============================] - 2s 41us/step - loss: 1.0537 - acc: 0.6395 - val_loss: 1.4528 - val_acc: 0.4934\n",
      "Epoch 25/25\n",
      "50000/50000 [==============================] - 2s 41us/step - loss: 1.0380 - acc: 0.6455 - val_loss: 1.4370 - val_acc: 0.4918\n"
     ]
    }
   ],
   "source": [
    "model = build_mlp(input_shape=x_train.shape[1:])\n",
    "model.summary()\n",
    "optimizer = keras.optimizers.SGD(lr=LEARNING_RATE, nesterov=True, momentum=MOMENTUM)\n",
    "model.compile(loss=\"categorical_crossentropy\", metrics=[\"accuracy\"], optimizer=optimizer)\n",
    "\n",
    "\"\"\"Code Here\n",
    "將 callbacks 放入模型訓練流程中\n",
    "\"\"\"\n",
    "model.fit(x_train,y_train,\n",
    "          epochs = EPOCHS , \n",
    "          batch_size = BATCH_SIZE,\n",
    "          validation_data = (x_test,y_test),\n",
    "          shuffle = True,\n",
    "          callbacks = [rec_tptn])\n",
    "\n",
    "# Collect results\n",
    "train_loss = model.history.history[\"loss\"]\n",
    "valid_loss = model.history.history[\"val_loss\"]\n",
    "train_acc = model.history.history[\"acc\"]\n",
    "valid_acc = model.history.history[\"val_acc\"]\n",
    "\n",
    "\"\"\"\n",
    "Code Here\n",
    "將 tp/tn 從訓練完的模型中取出\n",
    "\"\"\"\n",
    "valid_tp = model.history.history[\"ture_pos\"]\n",
    "valid_tn = model.history.history[\"ture_neg\"]"
   ]
  },
  {
   "cell_type": "code",
   "execution_count": 20,
   "metadata": {},
   "outputs": [
    {
     "data": {
      "image/png": "[encoded data removed]",
      "text/plain": [
       "<Figure size 432x288 with 1 Axes>"
      ]
     },
     "metadata": {
      "needs_background": "light"
     },
     "output_type": "display_data"
    },
    {
     "data": {
      "image/png": "[encoded data removed]",
      "text/plain": [
       "<Figure size 432x288 with 1 Axes>"
      ]
     },
     "metadata": {
      "needs_background": "light"
     },
     "output_type": "display_data"
    },
    {
     "data": {
      "image/png": "[encoded data removed]",
      "text/plain": [
       "<Figure size 432x288 with 1 Axes>"
      ]
     },
     "metadata": {
      "needs_background": "light"
     },
     "output_type": "display_data"
    }
   ],
   "source": [
    "import matplotlib.pyplot as plt\n",
    "%matplotlib inline\n",
    "\n",
    "plt.plot(range(len(train_loss)), train_loss, label=\"train loss\")\n",
    "plt.plot(range(len(valid_loss)), valid_loss, label=\"valid loss\")\n",
    "plt.legend()\n",
    "plt.title(\"Loss\")\n",
    "plt.show()\n",
    "\n",
    "plt.plot(range(len(train_acc)), train_acc, label=\"train accuracy\")\n",
    "plt.plot(range(len(valid_acc)), valid_acc, label=\"valid accuracy\")\n",
    "plt.legend()\n",
    "plt.title(\"Accuracy\")\n",
    "plt.show()\n",
    "\n",
    "plt.plot(range(len(valid_tp)), valid_tp, label=\"valid tp\", color=\"navy\")\n",
    "plt.plot(range(len(valid_tn)), valid_tn, label=\"valid tn\", color=\"red\")\n",
    "plt.legend()\n",
    "plt.title(\"True positives and True Negatives\")\n",
    "plt.show()\n",
    "\n",
    "\n"
   ]
  },
  {
   "cell_type": "code",
   "execution_count": null,
   "metadata": {},
   "outputs": [],
   "source": []
  }
 ],
 "metadata": {
  "kernelspec": {
   "display_name": "python-GPU",
   "language": "python",
   "name": "tensorflow"
  },
  "language_info": {
   "codemirror_mode": {
    "name": "ipython",
    "version": 3
   },
   "file_extension": ".py",
   "mimetype": "text/x-python",
   "name": "python",
   "nbconvert_exporter": "python",
   "pygments_lexer": "ipython3",
   "version": "3.6.8"
  }
 },
 "nbformat": 4,
 "nbformat_minor": 2
}
