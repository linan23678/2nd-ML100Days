{
 "cells": [
  {
   "cell_type": "markdown",
   "metadata": {},
   "source": [
    "## [作業重點]\n",
    "確保你了解隨機森林模型中每個超參數的意義，並觀察調整超參數對結果的影響"
   ]
  },
  {
   "cell_type": "markdown",
   "metadata": {},
   "source": [
    "## 作業\n",
    "\n",
    "1. 試著調整 RandomForestClassifier(...) 中的參數，並觀察是否會改變結果？\n",
    "2. 改用其他資料集 (boston, wine)，並與回歸模型與決策樹的結果進行比較"
   ]
  },
  {
   "cell_type": "code",
   "execution_count": 1,
   "metadata": {},
   "outputs": [],
   "source": [
    "from sklearn import datasets\n",
    "from sklearn.ensemble import RandomForestClassifier , RandomForestRegressor\n",
    "from sklearn.model_selection import  train_test_split\n",
    "from sklearn.metrics import accuracy_score,mean_squared_error\n"
   ]
  },
  {
   "cell_type": "code",
   "execution_count": 2,
   "metadata": {},
   "outputs": [],
   "source": [
    "##讀取波士頓資料集\n",
    "bostons = datasets.load_boston()\n",
    "\n",
    "##切割訓練資料\n",
    "x_train,x_test,y_train,y_test = train_test_split(bostons.data,bostons.target,test_size = 0.3,random_state = 4)\n",
    "\n",
    "##根據目標是(分類或者回歸來決定模型)  此處為回歸\n",
    "regr = RandomForestRegressor(n_estimators=8,min_samples_leaf=1,min_samples_split=5)\n",
    "\n",
    "##訓練模型\n",
    "regr.fit(x_train,y_train)\n",
    "\n",
    "##將訓練好的模型 預測資料\n",
    "y_pred = regr.predict(x_test)"
   ]
  },
  {
   "cell_type": "code",
   "execution_count": 3,
   "metadata": {},
   "outputs": [
    {
     "name": "stdout",
     "output_type": "stream",
     "text": [
      "mean_squared_error: 20.21\n"
     ]
    }
   ],
   "source": [
    "print(\"mean_squared_error: %.2f\"\n",
    "       % mean_squared_error(y_test,y_pred))"
   ]
  },
  {
   "cell_type": "code",
   "execution_count": 9,
   "metadata": {},
   "outputs": [],
   "source": [
    "##讀取 wine 資料集\n",
    "wins = datasets.load_wine()\n",
    "\n",
    "##切割訓練資料\n",
    "x_train,x_test,y_train,y_test = train_test_split(wins.data,wins.target,test_size = 0.3,random_state = 4)\n",
    "\n",
    "##根據目標是(分類或者回歸來決定模型)  此處為分類\n",
    "clf = RandomForestClassifier(n_estimators=7,min_samples_leaf=1,min_samples_split=4)\n",
    "\n",
    "##訓練模型\n",
    "clf.fit(x_train,y_train)\n",
    "\n",
    "##將訓練好的模型 預測資料\n",
    "y_pred = clf.predict(x_test)"
   ]
  },
  {
   "cell_type": "code",
   "execution_count": 10,
   "metadata": {},
   "outputs": [
    {
     "name": "stdout",
     "output_type": "stream",
     "text": [
      "accuracy_score: 0.98\n"
     ]
    }
   ],
   "source": [
    "acc = accuracy_score(y_test,y_pred)\n",
    "print(\"accuracy_score: %.2f\"\n",
    "      % acc)"
   ]
  },
  {
   "cell_type": "code",
   "execution_count": null,
   "metadata": {},
   "outputs": [],
   "source": []
  }
 ],
 "metadata": {
  "kernelspec": {
   "display_name": "Python 3",
   "language": "python",
   "name": "python3"
  },
  "language_info": {
   "codemirror_mode": {
    "name": "ipython",
    "version": 3
   },
   "file_extension": ".py",
   "mimetype": "text/x-python",
   "name": "python",
   "nbconvert_exporter": "python",
   "pygments_lexer": "ipython3",
   "version": "3.6.7"
  }
 },
 "nbformat": 4,
 "nbformat_minor": 2
}
