{
 "cells": [
  {
   "cell_type": "markdown",
   "metadata": {},
   "source": [
    "## 練習時間\n",
    "資料的操作有很多，接下來的馬拉松中我們會介紹常被使用到的操作，參加者不妨先自行想像一下，第一次看到資料，我們一般會想知道什麼訊息？\n",
    "\n",
    "#### Ex: 如何知道資料的 row 數以及 column 數、有什麼欄位、多少欄位、如何截取部分的資料等等\n",
    "\n",
    "有了對資料的好奇之後，我們又怎麼通過程式碼來達成我們的目的呢？\n",
    "\n",
    "#### 可參考該[基礎教材](https://bookdata.readthedocs.io/en/latest/base/01_pandas.html#DataFrame-%E5%85%A5%E9%97%A8)或自行 google"
   ]
  },
  {
   "cell_type": "code",
   "execution_count": 1,
   "metadata": {},
   "outputs": [],
   "source": [
    "import os\n",
    "import numpy as np\n",
    "import pandas as pd"
   ]
  },
  {
   "cell_type": "code",
   "execution_count": 2,
   "metadata": {},
   "outputs": [],
   "source": [
    "# 設定 data_path\n",
    "dir_data = r'C:\\Users\\linwei\\Desktop\\Day_002_HW'"
   ]
  },
  {
   "cell_type": "code",
   "execution_count": 3,
   "metadata": {},
   "outputs": [
    {
     "name": "stdout",
     "output_type": "stream",
     "text": [
      "Path of read in data: C:\\Users\\linwei\\Desktop\\Day_002_HW\\HomeCredit_columns_description.csv\n"
     ]
    }
   ],
   "source": [
    "f_app = os.path.join(dir_data, 'HomeCredit_columns_description.csv')\n",
    "print('Path of read in data: %s' % (f_app))\n",
    "HomeCredit_train = pd.read_csv(f_app)"
   ]
  },
  {
   "cell_type": "markdown",
   "metadata": {},
   "source": [
    "# 如果沒有想法，可以先嘗試找出剛剛例子中提到的問題的答案\n",
    "#### 資料的 row 數以及 column 數"
   ]
  },
  {
   "cell_type": "code",
   "execution_count": 4,
   "metadata": {},
   "outputs": [
    {
     "name": "stdout",
     "output_type": "stream",
     "text": [
      "(205, 7)\n",
      "row數: 205 column數: 7\n"
     ]
    }
   ],
   "source": [
    "print(HomeCredit_train.shape)\n",
    "print(\"row數:\",len(HomeCredit_train.Row),\"column數:\",len(HomeCredit_train.columns))"
   ]
  },
  {
   "cell_type": "code",
   "execution_count": 5,
   "metadata": {},
   "outputs": [
    {
     "name": "stdout",
     "output_type": "stream",
     "text": [
      "(205, 7)\n",
      "row counter is : 205   column counter is : 7\n"
     ]
    }
   ],
   "source": [
    "print(HomeCredit_train.shape)\n",
    "row_counter , col_counter = HomeCredit_train.shape \n",
    "print(\"row counter is :\",row_counter, \n",
    "      \"  column counter is :\",col_counter)"
   ]
  },
  {
   "cell_type": "markdown",
   "metadata": {},
   "source": [
    "# 列出所有欄位"
   ]
  },
  {
   "cell_type": "code",
   "execution_count": 6,
   "metadata": {},
   "outputs": [
    {
     "name": "stdout",
     "output_type": "stream",
     "text": [
      "Index(['Unnamed: 0', 'Table', 'Row', 'Description', 'Special', 'Unnamed: 5',\n",
      "       'Unnamed: 6'],\n",
      "      dtype='object')\n"
     ]
    }
   ],
   "source": [
    "total_columns = HomeCredit_train.columns\n",
    "print(total_columns)"
   ]
  },
  {
   "cell_type": "markdown",
   "metadata": {},
   "source": [
    "# 截取部分資料"
   ]
  },
  {
   "cell_type": "code",
   "execution_count": 7,
   "metadata": {},
   "outputs": [
    {
     "name": "stdout",
     "output_type": "stream",
     "text": [
      "   Unnamed: 0                         Table                 Row  \\\n",
      "0           1  application_{train|test}.csv          SK_ID_CURR   \n",
      "1           2  application_{train|test}.csv              TARGET   \n",
      "2           5  application_{train|test}.csv  NAME_CONTRACT_TYPE   \n",
      "3           6  application_{train|test}.csv         CODE_GENDER   \n",
      "4           7  application_{train|test}.csv        FLAG_OWN_CAR   \n",
      "5           8  application_{train|test}.csv     FLAG_OWN_REALTY   \n",
      "6           9  application_{train|test}.csv        CNT_CHILDREN   \n",
      "7          10  application_{train|test}.csv    AMT_INCOME_TOTAL   \n",
      "8          11  application_{train|test}.csv          AMT_CREDIT   \n",
      "9          12  application_{train|test}.csv         AMT_ANNUITY   \n",
      "\n",
      "                                         Description Special Unnamed: 5  \\\n",
      "0                           ID of loan in our sample     NaN        NaN   \n",
      "1  Target variable (1 - client with payment diffi...     NaN        NaN   \n",
      "2        Identification if loan is cash or revolving     NaN        NaN   \n",
      "3                               Gender of the client     NaN        NaN   \n",
      "4                      Flag if the client owns a car     NaN        NaN   \n",
      "5                Flag if client owns a house or flat     NaN        NaN   \n",
      "6                  Number of children the client has     NaN        NaN   \n",
      "7                               Income of the client     NaN        NaN   \n",
      "8                          Credit amount of the loan     NaN        NaN   \n",
      "9                                       Loan annuity     NaN        NaN   \n",
      "\n",
      "  Unnamed: 6  \n",
      "0        NaN  \n",
      "1        NaN  \n",
      "2        NaN  \n",
      "3        NaN  \n",
      "4        NaN  \n",
      "5        NaN  \n",
      "6        NaN  \n",
      "7        NaN  \n",
      "8        NaN  \n",
      "9        NaN  \n"
     ]
    },
    {
     "data": {
      "text/html": [
       "<div>\n",
       "<style scoped>\n",
       "    .dataframe tbody tr th:only-of-type {\n",
       "        vertical-align: middle;\n",
       "    }\n",
       "\n",
       "    .dataframe tbody tr th {\n",
       "        vertical-align: top;\n",
       "    }\n",
       "\n",
       "    .dataframe thead th {\n",
       "        text-align: right;\n",
       "    }\n",
       "</style>\n",
       "<table border=\"1\" class=\"dataframe\">\n",
       "  <thead>\n",
       "    <tr style=\"text-align: right;\">\n",
       "      <th></th>\n",
       "      <th>Table</th>\n",
       "      <th>Row</th>\n",
       "    </tr>\n",
       "  </thead>\n",
       "  <tbody>\n",
       "    <tr>\n",
       "      <th>0</th>\n",
       "      <td>application_{train|test}.csv</td>\n",
       "      <td>SK_ID_CURR</td>\n",
       "    </tr>\n",
       "    <tr>\n",
       "      <th>1</th>\n",
       "      <td>application_{train|test}.csv</td>\n",
       "      <td>TARGET</td>\n",
       "    </tr>\n",
       "    <tr>\n",
       "      <th>2</th>\n",
       "      <td>application_{train|test}.csv</td>\n",
       "      <td>NAME_CONTRACT_TYPE</td>\n",
       "    </tr>\n",
       "    <tr>\n",
       "      <th>3</th>\n",
       "      <td>application_{train|test}.csv</td>\n",
       "      <td>CODE_GENDER</td>\n",
       "    </tr>\n",
       "    <tr>\n",
       "      <th>4</th>\n",
       "      <td>application_{train|test}.csv</td>\n",
       "      <td>FLAG_OWN_CAR</td>\n",
       "    </tr>\n",
       "    <tr>\n",
       "      <th>5</th>\n",
       "      <td>application_{train|test}.csv</td>\n",
       "      <td>FLAG_OWN_REALTY</td>\n",
       "    </tr>\n",
       "    <tr>\n",
       "      <th>6</th>\n",
       "      <td>application_{train|test}.csv</td>\n",
       "      <td>CNT_CHILDREN</td>\n",
       "    </tr>\n",
       "    <tr>\n",
       "      <th>7</th>\n",
       "      <td>application_{train|test}.csv</td>\n",
       "      <td>AMT_INCOME_TOTAL</td>\n",
       "    </tr>\n",
       "    <tr>\n",
       "      <th>8</th>\n",
       "      <td>application_{train|test}.csv</td>\n",
       "      <td>AMT_CREDIT</td>\n",
       "    </tr>\n",
       "    <tr>\n",
       "      <th>9</th>\n",
       "      <td>application_{train|test}.csv</td>\n",
       "      <td>AMT_ANNUITY</td>\n",
       "    </tr>\n",
       "  </tbody>\n",
       "</table>\n",
       "</div>"
      ],
      "text/plain": [
       "                          Table                 Row\n",
       "0  application_{train|test}.csv          SK_ID_CURR\n",
       "1  application_{train|test}.csv              TARGET\n",
       "2  application_{train|test}.csv  NAME_CONTRACT_TYPE\n",
       "3  application_{train|test}.csv         CODE_GENDER\n",
       "4  application_{train|test}.csv        FLAG_OWN_CAR\n",
       "5  application_{train|test}.csv     FLAG_OWN_REALTY\n",
       "6  application_{train|test}.csv        CNT_CHILDREN\n",
       "7  application_{train|test}.csv    AMT_INCOME_TOTAL\n",
       "8  application_{train|test}.csv          AMT_CREDIT\n",
       "9  application_{train|test}.csv         AMT_ANNUITY"
      ]
     },
     "execution_count": 7,
     "metadata": {},
     "output_type": "execute_result"
    }
   ],
   "source": [
    "print(HomeCredit_train[0:10]) ##印出前10筆資料\n",
    "HomeCredit_train[['Table',\"Row\"]][0:10] ##擷取 Table Row 的前十筆資料"
   ]
  },
  {
   "cell_type": "markdown",
   "metadata": {},
   "source": [
    "#### 還有各種數之不盡的資料操作，重點還是取決於實務中遇到的狀況和你想問的問題，在馬拉松中我們也會陸續提到更多例子"
   ]
  },
  {
   "cell_type": "code",
   "execution_count": 62,
   "metadata": {},
   "outputs": [
    {
     "name": "stdout",
     "output_type": "stream",
     "text": [
      "SK_ID_CURR 字數: 10\n",
      "TARGET 字數: 6\n",
      "NAME_CONTRACT_TYPE 字數: 18\n",
      "CODE_GENDER 字數: 11\n",
      "FLAG_OWN_CAR 字數: 12\n",
      "FLAG_OWN_REALTY 字數: 15\n",
      "CNT_CHILDREN 字數: 12\n",
      "AMT_INCOME_TOTAL 字數: 16\n",
      "AMT_CREDIT 字數: 10\n",
      "AMT_ANNUITY 字數: 11\n",
      "AMT_GOODS_PRICE 字數: 15\n",
      "NAME_TYPE_SUITE 字數: 15\n",
      "NAME_INCOME_TYPE 字數: 16\n",
      "NAME_EDUCATION_TYPE 字數: 19\n",
      "NAME_FAMILY_STATUS 字數: 18\n",
      "NAME_HOUSING_TYPE 字數: 17\n",
      "REGION_POPULATION_RELATIVE 字數: 26\n",
      "DAYS_BIRTH 字數: 10\n",
      "DAYS_EMPLOYED 字數: 13\n",
      "DAYS_REGISTRATION 字數: 17\n",
      "DAYS_ID_PUBLISH 字數: 15\n",
      "OWN_CAR_AGE 字數: 11\n",
      "FLAG_MOBIL 字數: 10\n",
      "FLAG_EMP_PHONE 字數: 14\n",
      "FLAG_WORK_PHONE 字數: 15\n",
      "FLAG_CONT_MOBILE 字數: 16\n",
      "FLAG_PHONE 字數: 10\n",
      "FLAG_EMAIL 字數: 10\n",
      "OCCUPATION_TYPE 字數: 15\n",
      "CNT_FAM_MEMBERS 字數: 15\n",
      "REGION_RATING_CLIENT 字數: 20\n",
      "REGION_RATING_CLIENT_W_CITY 字數: 27\n",
      "WEEKDAY_APPR_PROCESS_START 字數: 26\n",
      "HOUR_APPR_PROCESS_START 字數: 23\n",
      "REG_REGION_NOT_LIVE_REGION 字數: 26\n",
      "REG_REGION_NOT_WORK_REGION 字數: 26\n",
      "LIVE_REGION_NOT_WORK_REGION 字數: 27\n",
      "REG_CITY_NOT_LIVE_CITY 字數: 22\n",
      "REG_CITY_NOT_WORK_CITY 字數: 22\n",
      "LIVE_CITY_NOT_WORK_CITY 字數: 23\n",
      "ORGANIZATION_TYPE 字數: 17\n",
      "EXT_SOURCE_1 字數: 12\n",
      "EXT_SOURCE_2 字數: 12\n",
      "EXT_SOURCE_3 字數: 12\n",
      "APARTMENTS_AVG 字數: 14\n",
      "BASEMENTAREA_AVG 字數: 16\n",
      "YEARS_BEGINEXPLUATATION_AVG 字數: 27\n",
      "YEARS_BUILD_AVG 字數: 15\n",
      "COMMONAREA_AVG 字數: 14\n",
      "ELEVATORS_AVG 字數: 13\n",
      "ENTRANCES_AVG 字數: 13\n",
      "FLOORSMAX_AVG 字數: 13\n",
      "FLOORSMIN_AVG 字數: 13\n",
      "LANDAREA_AVG 字數: 12\n",
      "LIVINGAPARTMENTS_AVG 字數: 20\n",
      "LIVINGAREA_AVG 字數: 14\n",
      "NONLIVINGAPARTMENTS_AVG 字數: 23\n",
      "NONLIVINGAREA_AVG 字數: 17\n",
      "APARTMENTS_MODE 字數: 15\n",
      "BASEMENTAREA_MODE 字數: 17\n",
      "YEARS_BEGINEXPLUATATION_MODE 字數: 28\n",
      "YEARS_BUILD_MODE 字數: 16\n",
      "COMMONAREA_MODE 字數: 15\n",
      "ELEVATORS_MODE 字數: 14\n",
      "ENTRANCES_MODE 字數: 14\n",
      "FLOORSMAX_MODE 字數: 14\n",
      "FLOORSMIN_MODE 字數: 14\n",
      "LANDAREA_MODE 字數: 13\n",
      "LIVINGAPARTMENTS_MODE 字數: 21\n",
      "LIVINGAREA_MODE 字數: 15\n",
      "NONLIVINGAPARTMENTS_MODE 字數: 24\n",
      "NONLIVINGAREA_MODE 字數: 18\n",
      "APARTMENTS_MEDI 字數: 15\n",
      "BASEMENTAREA_MEDI 字數: 17\n",
      "YEARS_BEGINEXPLUATATION_MEDI 字數: 28\n",
      "YEARS_BUILD_MEDI 字數: 16\n",
      "COMMONAREA_MEDI 字數: 15\n",
      "ELEVATORS_MEDI 字數: 14\n",
      "ENTRANCES_MEDI 字數: 14\n",
      "FLOORSMAX_MEDI 字數: 14\n",
      "FLOORSMIN_MEDI 字數: 14\n",
      "LANDAREA_MEDI 字數: 13\n",
      "LIVINGAPARTMENTS_MEDI 字數: 21\n",
      "LIVINGAREA_MEDI 字數: 15\n",
      "NONLIVINGAPARTMENTS_MEDI 字數: 24\n",
      "NONLIVINGAREA_MEDI 字數: 18\n",
      "FONDKAPREMONT_MODE 字數: 18\n",
      "HOUSETYPE_MODE 字數: 14\n",
      "TOTALAREA_MODE 字數: 14\n",
      "WALLSMATERIAL_MODE 字數: 18\n",
      "EMERGENCYSTATE_MODE 字數: 19\n",
      "OBS_30_CNT_SOCIAL_CIRCLE 字數: 24\n",
      "DEF_30_CNT_SOCIAL_CIRCLE 字數: 24\n",
      "OBS_60_CNT_SOCIAL_CIRCLE 字數: 24\n",
      "DEF_60_CNT_SOCIAL_CIRCLE 字數: 24\n",
      "DAYS_LAST_PHONE_CHANGE 字數: 22\n",
      "FLAG_DOCUMENT_2 字數: 15\n",
      "FLAG_DOCUMENT_3 字數: 15\n",
      "FLAG_DOCUMENT_4 字數: 15\n",
      "FLAG_DOCUMENT_5 字數: 15\n",
      "FLAG_DOCUMENT_6 字數: 15\n",
      "FLAG_DOCUMENT_7 字數: 15\n",
      "FLAG_DOCUMENT_8 字數: 15\n",
      "FLAG_DOCUMENT_9 字數: 15\n",
      "FLAG_DOCUMENT_10 字數: 16\n",
      "FLAG_DOCUMENT_11 字數: 16\n",
      "FLAG_DOCUMENT_12 字數: 16\n",
      "FLAG_DOCUMENT_13 字數: 16\n",
      "FLAG_DOCUMENT_14 字數: 16\n",
      "FLAG_DOCUMENT_15 字數: 16\n",
      "FLAG_DOCUMENT_16 字數: 16\n",
      "FLAG_DOCUMENT_17 字數: 16\n",
      "FLAG_DOCUMENT_18 字數: 16\n",
      "FLAG_DOCUMENT_19 字數: 16\n",
      "FLAG_DOCUMENT_20 字數: 16\n",
      "FLAG_DOCUMENT_21 字數: 16\n",
      "AMT_REQ_CREDIT_BUREAU_HOUR 字數: 26\n",
      "AMT_REQ_CREDIT_BUREAU_DAY 字數: 25\n",
      "AMT_REQ_CREDIT_BUREAU_WEEK 字數: 26\n",
      "AMT_REQ_CREDIT_BUREAU_MON 字數: 25\n",
      "AMT_REQ_CREDIT_BUREAU_QRT 字數: 25\n",
      "AMT_REQ_CREDIT_BUREAU_YEAR 字數: 26\n",
      "SK_ID_CURR 字數: 10\n",
      "SK_BUREAU_ID 字數: 12\n",
      "CREDIT_ACTIVE 字數: 13\n",
      "CREDIT_CURRENCY 字數: 15\n",
      "DAYS_CREDIT 字數: 11\n",
      "CREDIT_DAY_OVERDUE 字數: 18\n",
      "DAYS_CREDIT_ENDDATE 字數: 19\n",
      "DAYS_ENDDATE_FACT 字數: 17\n",
      "AMT_CREDIT_MAX_OVERDUE 字數: 22\n",
      "CNT_CREDIT_PROLONG 字數: 18\n",
      "AMT_CREDIT_SUM 字數: 14\n",
      "AMT_CREDIT_SUM_DEBT 字數: 19\n",
      "AMT_CREDIT_SUM_LIMIT 字數: 20\n",
      "AMT_CREDIT_SUM_OVERDUE 字數: 22\n",
      "CREDIT_TYPE 字數: 11\n",
      "DAYS_CREDIT_UPDATE 字數: 18\n",
      "AMT_ANNUITY 字數: 11\n",
      "SK_BUREAU_ID 字數: 12\n",
      "MONTHS_BALANCE 字數: 14\n",
      "STATUS 字數: 6\n",
      "SK_ID_PREV  字數: 11\n",
      "SK_ID_CURR 字數: 10\n",
      "MONTHS_BALANCE 字數: 14\n",
      "CNT_INSTALMENT 字數: 14\n",
      "CNT_INSTALMENT_FUTURE 字數: 21\n",
      "NAME_CONTRACT_STATUS 字數: 20\n",
      "SK_DPD 字數: 6\n",
      "SK_DPD_DEF 字數: 10\n",
      "SK_ID_PREV  字數: 11\n",
      "SK_ID_CURR 字數: 10\n",
      "MONTHS_BALANCE 字數: 14\n",
      "AMT_BALANCE 字數: 11\n",
      "AMT_CREDIT_LIMIT_ACTUAL 字數: 23\n",
      "AMT_DRAWINGS_ATM_CURRENT 字數: 24\n",
      "AMT_DRAWINGS_CURRENT 字數: 20\n",
      "AMT_DRAWINGS_OTHER_CURRENT 字數: 26\n",
      "AMT_DRAWINGS_POS_CURRENT 字數: 24\n",
      "AMT_INST_MIN_REGULARITY 字數: 23\n",
      "AMT_PAYMENT_CURRENT 字數: 19\n",
      "AMT_PAYMENT_TOTAL_CURRENT 字數: 25\n",
      "AMT_RECEIVABLE_PRINCIPAL 字數: 24\n",
      "AMT_RECIVABLE 字數: 13\n",
      "AMT_TOTAL_RECEIVABLE 字數: 20\n",
      "CNT_DRAWINGS_ATM_CURRENT 字數: 24\n",
      "CNT_DRAWINGS_CURRENT 字數: 20\n",
      "CNT_DRAWINGS_OTHER_CURRENT 字數: 26\n",
      "CNT_DRAWINGS_POS_CURRENT 字數: 24\n",
      "CNT_INSTALMENT_MATURE_CUM 字數: 25\n",
      "NAME_CONTRACT_STATUS 字數: 20\n",
      "SK_DPD 字數: 6\n",
      "SK_DPD_DEF 字數: 10\n",
      "SK_ID_PREV  字數: 11\n",
      "SK_ID_CURR 字數: 10\n",
      "NAME_CONTRACT_TYPE 字數: 18\n",
      "AMT_ANNUITY 字數: 11\n",
      "AMT_APPLICATION 字數: 15\n",
      "AMT_CREDIT 字數: 10\n",
      "AMT_DOWN_PAYMENT 字數: 16\n",
      "AMT_GOODS_PRICE 字數: 15\n",
      "WEEKDAY_APPR_PROCESS_START 字數: 26\n",
      "HOUR_APPR_PROCESS_START 字數: 23\n",
      "FLAG_LAST_APPL_PER_CONTRACT 字數: 27\n",
      "NFLAG_LAST_APPL_IN_DAY 字數: 22\n",
      "NFLAG_MICRO_CASH 字數: 16\n",
      "RATE_DOWN_PAYMENT 字數: 17\n",
      "RATE_INTEREST_PRIMARY 字數: 21\n",
      "RATE_INTEREST_PRIVILEGED 字數: 24\n",
      "NAME_CASH_LOAN_PURPOSE 字數: 22\n",
      "NAME_CONTRACT_STATUS 字數: 20\n",
      "DAYS_DECISION 字數: 13\n",
      "NAME_PAYMENT_TYPE 字數: 17\n",
      "CODE_REJECT_REASON 字數: 18\n",
      "NAME_TYPE_SUITE 字數: 15\n",
      "NAME_CLIENT_TYPE 字數: 16\n",
      "NAME_GOODS_CATEGORY 字數: 19\n",
      "NAME_PORTFOLIO 字數: 14\n",
      "SK_ID_CURR 字數: 10\n",
      "NUM_INSTALMENT_VERSION 字數: 22\n",
      "NUM_INSTALMENT_NUMBER 字數: 21\n",
      "DAYS_INSTALMENT 字數: 15\n",
      "DAYS_ENTRY_PAYMENT 字數: 18\n",
      "AMT_INSTALMENT 字數: 14\n",
      "AMT_PAYMENT 字數: 11\n"
     ]
    }
   ],
   "source": [
    "for i in HomeCredit_train.Row:\n",
    "    count = len(i)\n",
    "\n",
    "    print(i, '字數:',count)\n",
    "    "
   ]
  },
  {
   "cell_type": "code",
   "execution_count": null,
   "metadata": {},
   "outputs": [],
   "source": []
  }
 ],
 "metadata": {
  "kernelspec": {
   "display_name": "Python 3",
   "language": "python",
   "name": "python3"
  },
  "language_info": {
   "codemirror_mode": {
    "name": "ipython",
    "version": 3
   },
   "file_extension": ".py",
   "mimetype": "text/x-python",
   "name": "python",
   "nbconvert_exporter": "python",
   "pygments_lexer": "ipython3",
   "version": "3.6.7"
  }
 },
 "nbformat": 4,
 "nbformat_minor": 2
}
